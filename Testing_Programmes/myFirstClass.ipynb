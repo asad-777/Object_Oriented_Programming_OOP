{
 "cells": [
  {
   "cell_type": "code",
   "execution_count": 1,
   "metadata": {},
   "outputs": [
    {
     "name": "stdout",
     "output_type": "stream",
     "text": [
      "Buddy is barking!\n",
      "Max is barking!\n"
     ]
    }
   ],
   "source": [
    "class Dog:\n",
    "    def __init__(self, name, breed):\n",
    "        self.name = name\n",
    "        self.breed = breed\n",
    "\n",
    "    def bark(self):\n",
    "        print(f\"{self.name} is barking!\")\n",
    "\n",
    "# Creating objects (instances) from the class\n",
    "dog1 = Dog(\"Buddy\", \"Golden Retriever\")\n",
    "dog2 = Dog(\"Max\", \"Bulldog\")\n",
    "\n",
    "# Calling the method\n",
    "dog1.bark()  # Outputs: Buddy is barking!\n",
    "dog2.bark()  # Outputs: Max is barking!\n"
   ]
  },
  {
   "cell_type": "code",
   "execution_count": 4,
   "metadata": {},
   "outputs": [
    {
     "name": "stdout",
     "output_type": "stream",
     "text": [
      "Hi! I am kaif\n",
      "My age is 16\n",
      "I like to play Boxing\n",
      "\n",
      "Hi! I am ali\n",
      "My age is 17\n",
      "I like to play GYM\n",
      "\n",
      "Hi! I am rehan\n",
      "My age is 17\n",
      "I like to play Badminton\n"
     ]
    }
   ],
   "source": [
    "class classfello:\n",
    "    def __init__(self, name, age, intrest):\n",
    "        self.name = name\n",
    "        self.age = age\n",
    "        self.intrest = intrest\n",
    "    def introduce(self):\n",
    "        print(f\"Hi! I am {self.name}\\nMy age is {self.age}\\nI like to play {self.intrest}\")\n",
    "\n",
    "ali  = classfello(\"ali\",\"17\",\"GYM\")\n",
    "kaif = classfello(\"kaif\", \"16\", \"Boxing\")\n",
    "rehan= classfello(\"rehan\" , \"17\", \"Badminton\")\n",
    "\n",
    "kaif.introduce()\n",
    "print()\n",
    "ali.introduce()\n",
    "print()\n",
    "rehan.introduce()"
   ]
  }
 ],
 "metadata": {
  "kernelspec": {
   "display_name": "Python 3",
   "language": "python",
   "name": "python3"
  },
  "language_info": {
   "codemirror_mode": {
    "name": "ipython",
    "version": 3
   },
   "file_extension": ".py",
   "mimetype": "text/x-python",
   "name": "python",
   "nbconvert_exporter": "python",
   "pygments_lexer": "ipython3",
   "version": "3.12.4"
  }
 },
 "nbformat": 4,
 "nbformat_minor": 2
}
