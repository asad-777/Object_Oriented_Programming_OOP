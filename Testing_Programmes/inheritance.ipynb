{
 "cells": [
  {
   "cell_type": "code",
   "execution_count": 1,
   "metadata": {},
   "outputs": [
    {
     "name": "stdout",
     "output_type": "stream",
     "text": [
      "I am asad and my roll number is 3405\n",
      "Total number of students are 2\n",
      "I am alan and my roll number is 1913\n",
      "Total number of students are 2\n"
     ]
    }
   ],
   "source": [
    "class student():\n",
    "\n",
    "    number_of_students: int = 0\n",
    "\n",
    "    def __init__(self,name,rollNo):\n",
    "        self.name = name\n",
    "        self.rollNo = rollNo\n",
    "        student.number_of_students += 1\n",
    "\n",
    "    def display(self):\n",
    "        print(f\"I am {self.name} and my roll number is {self.rollNo}\")\n",
    "        print(f\"Total number of students are {student.number_of_students}\")\n",
    "\n",
    "std1 = student(\"asad\",\"3405\")\n",
    "std2 = student(\"alan\",\"1913\")\n",
    "\n",
    "std1.display()\n",
    "std2.display()"
   ]
  },
  {
   "cell_type": "code",
   "execution_count": 25,
   "metadata": {},
   "outputs": [
    {
     "name": "stdout",
     "output_type": "stream",
     "text": [
      "I am ali and my salary is 1000\n",
      "I am ali and my salary is 3000\n"
     ]
    }
   ],
   "source": [
    "class worker:\n",
    "    total_worker = 0\n",
    "    def __init__(self, name, salary):\n",
    "        self.name = name\n",
    "        self.salary = salary\n",
    "        worker.total_worker += 1\n",
    "\n",
    "    def display(self):\n",
    "        print(f\"I am {self.name} and my salary is {self.salary}\")\n",
    "\n",
    "    def increase_salary(self,x):\n",
    "        self.salary += x\n",
    "\n",
    "\n",
    "w1 = worker(\"ali\", 1000)\n",
    "w1.display()\n",
    "\n",
    "w1.increase_salary(2000)\n",
    "\n",
    "w1.display()\n",
    "\n"
   ]
  },
  {
   "cell_type": "code",
   "execution_count": 1,
   "metadata": {},
   "outputs": [
    {
     "name": "stdout",
     "output_type": "stream",
     "text": [
      "meow\n",
      "bark\n",
      "Animal speaks\n",
      "Total Number of animals = 3\n"
     ]
    }
   ],
   "source": [
    "class Animal():\n",
    "    total_animal = 0\n",
    "    def __init__(self,name):\n",
    "        self.name = name\n",
    "        Animal.total_animal += 1\n",
    "    @classmethod\n",
    "    def total(self):\n",
    "        print(f\"Total Number of animals = {Animal.total_animal}\")\n",
    "\n",
    "    def speak(self):\n",
    "        print(\"Animal speaks\")\n",
    "\n",
    "\n",
    "class Dog(Animal):\n",
    "    def speak(self):\n",
    "        print(\"bark\")\n",
    "\n",
    "class Cat(Animal):\n",
    "    def speak(self):\n",
    "        print(\"meow\")\n",
    "\n",
    "\n",
    "\n",
    "c1 = Cat(\"bitch\")\n",
    "c1.speak()\n",
    "\n",
    "\n",
    "d1 = Dog(\"doggy\")\n",
    "d1.speak()\n",
    "\n",
    "a1 = Animal(\"parrot\")\n",
    "a1.speak()\n",
    "\n",
    "Animal.total()"
   ]
  },
  {
   "cell_type": "code",
   "execution_count": 10,
   "metadata": {},
   "outputs": [
    {
     "name": "stdout",
     "output_type": "stream",
     "text": [
      "1000\n",
      "6000\n",
      "8000\n",
      "4000\n",
      "3000\n"
     ]
    }
   ],
   "source": [
    "class person:\n",
    "    def __init__(self, name, age,salary):\n",
    "        self.name = name\n",
    "        self.age = age\n",
    "        self.salary = salary\n",
    "\n",
    "    def __str__(self):\n",
    "        return f\"{self.name}-{self.age} and my salary is {self.salary}\"\n",
    "    \n",
    "    def say_hello(self):\n",
    "        print(f\"Hi i am {self.name}\")\n",
    "    \n",
    "p1 = person(\"maryam\", 17,1000)\n",
    "p2 = person(\"maryam\", 23,6000)\n",
    "p3 = person(\"maryam\", 23,8000)\n",
    "p4 = person(\"maryam\", 23,4000)\n",
    "p5 = person(\"maryam\", 23,3000)\n",
    "\n",
    "p = [p1,p2,p3,p4,p5]\n",
    "\n",
    "for x in p:\n",
    "    print(x.salary)"
   ]
  },
  {
   "cell_type": "code",
   "execution_count": null,
   "metadata": {},
   "outputs": [],
   "source": []
  },
  {
   "cell_type": "code",
   "execution_count": 8,
   "metadata": {},
   "outputs": [
    {
     "name": "stdout",
     "output_type": "stream",
     "text": [
      "Hello my name is John\n"
     ]
    }
   ],
   "source": [
    "class Person:\n",
    "  def __init__(mysillyobject, name, age):\n",
    "    mysillyobject.name = name\n",
    "    mysillyobject.age = age\n",
    "\n",
    "  def myfunc(abc):\n",
    "    print(\"Hello my name is \" + abc.name)\n",
    "\n",
    "p1 = Person(\"John\", 36)\n",
    "p1.myfunc()"
   ]
  }
 ],
 "metadata": {
  "kernelspec": {
   "display_name": "Python 3",
   "language": "python",
   "name": "python3"
  },
  "language_info": {
   "codemirror_mode": {
    "name": "ipython",
    "version": 3
   },
   "file_extension": ".py",
   "mimetype": "text/x-python",
   "name": "python",
   "nbconvert_exporter": "python",
   "pygments_lexer": "ipython3",
   "version": "3.12.4"
  }
 },
 "nbformat": 4,
 "nbformat_minor": 2
}
