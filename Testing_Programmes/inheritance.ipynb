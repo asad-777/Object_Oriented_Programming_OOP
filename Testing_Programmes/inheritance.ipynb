{
 "cells": [
  {
   "cell_type": "code",
   "execution_count": 19,
   "metadata": {},
   "outputs": [],
   "source": [
    "class student():\n",
    "\n",
    "    number_of_students: int = 0\n",
    "\n",
    "    def __init__(self,name,rollNo):\n",
    "        self.name = name\n",
    "        self.rollNo = rollNo\n",
    "        student.number_of_students += 1\n",
    "\n",
    "    def display(self):\n",
    "        print(f\"I am {self.name} and my roll number is {self.rollNo}\")\n",
    "        print(f\"Total number of students are {student.number_of_students}\")\n"
   ]
  },
  {
   "cell_type": "code",
   "execution_count": 20,
   "metadata": {},
   "outputs": [],
   "source": [
    "std1 = student(\"asad\",\"3405\")\n",
    "std2 = student(\"alan\",\"1913\")"
   ]
  },
  {
   "cell_type": "code",
   "execution_count": 21,
   "metadata": {},
   "outputs": [
    {
     "name": "stdout",
     "output_type": "stream",
     "text": [
      "I am asad and my roll number is 3405\n",
      "Total number of students are 2\n",
      "I am alan and my roll number is 1913\n",
      "Total number of students are 2\n"
     ]
    }
   ],
   "source": [
    "std1.display()\n",
    "std2.display()"
   ]
  },
  {
   "cell_type": "code",
   "execution_count": 34,
   "metadata": {},
   "outputs": [
    {
     "name": "stdout",
     "output_type": "stream",
     "text": [
      "----------------------------------------------------------------------\n",
      "<generator object main_1.<locals>.<genexpr> at 0x000001E3C8A40580>\n",
      "----------------------------------------------------------------------\n"
     ]
    }
   ],
   "source": [
    "def my_decor(gift):\n",
    "    def wrapper():\n",
    "        print(\"----------------------------------------------------------------------\")\n",
    "        gift()\n",
    "        print(\"----------------------------------------------------------------------\")\n",
    "    return wrapper\n",
    "\n",
    "@my_decor\n",
    "def main_1():\n",
    "   print(x for x in range(1,10))\n",
    "    \n",
    "\n",
    "\n",
    "main_1()\n"
   ]
  }
 ],
 "metadata": {
  "kernelspec": {
   "display_name": "Python 3",
   "language": "python",
   "name": "python3"
  },
  "language_info": {
   "codemirror_mode": {
    "name": "ipython",
    "version": 3
   },
   "file_extension": ".py",
   "mimetype": "text/x-python",
   "name": "python",
   "nbconvert_exporter": "python",
   "pygments_lexer": "ipython3",
   "version": "3.12.4"
  }
 },
 "nbformat": 4,
 "nbformat_minor": 2
}
