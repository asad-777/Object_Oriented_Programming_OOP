{
 "cells": [
  {
   "cell_type": "code",
   "execution_count": 5,
   "metadata": {},
   "outputs": [
    {
     "name": "stdout",
     "output_type": "stream",
     "text": [
      "----------------------------------------------------------------------\n",
      "[1, 2, 3, 4, 5, 6, 7, 8, 9]\n",
      "----------------------------------------------------------------------\n"
     ]
    }
   ],
   "source": [
    "def my_decor(gift):\n",
    "    def wrapper():\n",
    "        print(\"----------------------------------------------------------------------\")\n",
    "        gift()\n",
    "        print(\"----------------------------------------------------------------------\")\n",
    "    return wrapper\n",
    "\n",
    "@my_decor\n",
    "def main_1():\n",
    "   print([x for x in range(1,10)])\n",
    "    \n",
    "\n",
    "\n",
    "main_1()"
   ]
  }
 ],
 "metadata": {
  "kernelspec": {
   "display_name": "Python 3",
   "language": "python",
   "name": "python3"
  },
  "language_info": {
   "codemirror_mode": {
    "name": "ipython",
    "version": 3
   },
   "file_extension": ".py",
   "mimetype": "text/x-python",
   "name": "python",
   "nbconvert_exporter": "python",
   "pygments_lexer": "ipython3",
   "version": "3.12.4"
  }
 },
 "nbformat": 4,
 "nbformat_minor": 2
}
